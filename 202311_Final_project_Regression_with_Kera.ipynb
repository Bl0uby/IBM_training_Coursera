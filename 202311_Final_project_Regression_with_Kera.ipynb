{
 "cells": [
  {
   "cell_type": "markdown",
   "metadata": {},
   "source": [
    "<h1 align=\"center\"><font size=\"4\">Coursera: Introduction to Deep Learning and Neural Networks with Keras (week 5)</font></h1>\n",
    "\n",
    "<h1 align=\"center\"><font size=\"5\">Project: Build a Regression Model with Keras</font></h1>"
   ]
  },
  {
   "cell_type": "markdown",
   "metadata": {},
   "source": [
    "## Introduction"
   ]
  },
  {
   "cell_type": "markdown",
   "metadata": {},
   "source": [
    "This notebook contains the final assignment for the course _IBM AI Engineering: Introduction to Deep Learning and Neural Networks with Keras_ delivered by Coursera.\n",
    "\n",
    "In this project, we will build a regression model using the _Keras_ libray to characterise the compressive strength of concrete.\n",
    "\n",
    "According to the submission instructions, the structure of this report will be organised in four part, clearly labeled A, B, C, and D, each worth 5 mark points."
   ]
  },
  {
   "cell_type": "markdown",
   "metadata": {},
   "source": [
    "## Dataset preparation"
   ]
  },
  {
   "cell_type": "markdown",
   "metadata": {},
   "source": [
    "We first start by importing the required libraries."
   ]
  },
  {
   "cell_type": "code",
   "execution_count": 1,
   "metadata": {
    "tags": []
   },
   "outputs": [],
   "source": [
    "# Libraries installation if needed\n",
    "# !pip install numpy==1.21.4\n",
    "# !pip install pandas==1.3.4\n",
    "# !pip install keras==2.1.6"
   ]
  },
  {
   "cell_type": "code",
   "execution_count": 2,
   "metadata": {
    "tags": []
   },
   "outputs": [],
   "source": [
    "%%capture [--no-display]\n",
    "# import libraries\n",
    "import pandas as pd\n",
    "import numpy as np\n",
    "from sklearn.model_selection import train_test_split\n",
    "import statistics\n",
    "import matplotlib.pyplot as plt\n",
    "import seaborn as sns"
   ]
  },
  {
   "cell_type": "markdown",
   "metadata": {},
   "source": [
    "The dataset to use was provided by the course instructors in a csv file, and contains the compressive strength of samples of concret based on the volumes of the different ingredients used to make them. The ingredients include:\n",
    "1. Cement\n",
    "2. Blast Furnace Slag\n",
    "3. Fly Ash\n",
    "4. Water\n",
    "5. Superplasticizer\n",
    "6. Coarse Aggregate\n",
    "7. Fine Aggregate"
   ]
  },
  {
   "cell_type": "markdown",
   "metadata": {},
   "source": [
    "We start by downloading the data in a datagframe."
   ]
  },
  {
   "cell_type": "code",
   "execution_count": 3,
   "metadata": {
    "tags": []
   },
   "outputs": [
    {
     "data": {
      "text/html": [
       "<div>\n",
       "<style scoped>\n",
       "    .dataframe tbody tr th:only-of-type {\n",
       "        vertical-align: middle;\n",
       "    }\n",
       "\n",
       "    .dataframe tbody tr th {\n",
       "        vertical-align: top;\n",
       "    }\n",
       "\n",
       "    .dataframe thead th {\n",
       "        text-align: right;\n",
       "    }\n",
       "</style>\n",
       "<table border=\"1\" class=\"dataframe\">\n",
       "  <thead>\n",
       "    <tr style=\"text-align: right;\">\n",
       "      <th></th>\n",
       "      <th>Cement</th>\n",
       "      <th>Blast Furnace Slag</th>\n",
       "      <th>Fly Ash</th>\n",
       "      <th>Water</th>\n",
       "      <th>Superplasticizer</th>\n",
       "      <th>Coarse Aggregate</th>\n",
       "      <th>Fine Aggregate</th>\n",
       "      <th>Age</th>\n",
       "      <th>Strength</th>\n",
       "    </tr>\n",
       "  </thead>\n",
       "  <tbody>\n",
       "    <tr>\n",
       "      <th>0</th>\n",
       "      <td>540.0</td>\n",
       "      <td>0.0</td>\n",
       "      <td>0.0</td>\n",
       "      <td>162.0</td>\n",
       "      <td>2.5</td>\n",
       "      <td>1040.0</td>\n",
       "      <td>676.0</td>\n",
       "      <td>28</td>\n",
       "      <td>79.99</td>\n",
       "    </tr>\n",
       "    <tr>\n",
       "      <th>1</th>\n",
       "      <td>540.0</td>\n",
       "      <td>0.0</td>\n",
       "      <td>0.0</td>\n",
       "      <td>162.0</td>\n",
       "      <td>2.5</td>\n",
       "      <td>1055.0</td>\n",
       "      <td>676.0</td>\n",
       "      <td>28</td>\n",
       "      <td>61.89</td>\n",
       "    </tr>\n",
       "    <tr>\n",
       "      <th>2</th>\n",
       "      <td>332.5</td>\n",
       "      <td>142.5</td>\n",
       "      <td>0.0</td>\n",
       "      <td>228.0</td>\n",
       "      <td>0.0</td>\n",
       "      <td>932.0</td>\n",
       "      <td>594.0</td>\n",
       "      <td>270</td>\n",
       "      <td>40.27</td>\n",
       "    </tr>\n",
       "    <tr>\n",
       "      <th>3</th>\n",
       "      <td>332.5</td>\n",
       "      <td>142.5</td>\n",
       "      <td>0.0</td>\n",
       "      <td>228.0</td>\n",
       "      <td>0.0</td>\n",
       "      <td>932.0</td>\n",
       "      <td>594.0</td>\n",
       "      <td>365</td>\n",
       "      <td>41.05</td>\n",
       "    </tr>\n",
       "    <tr>\n",
       "      <th>4</th>\n",
       "      <td>198.6</td>\n",
       "      <td>132.4</td>\n",
       "      <td>0.0</td>\n",
       "      <td>192.0</td>\n",
       "      <td>0.0</td>\n",
       "      <td>978.4</td>\n",
       "      <td>825.5</td>\n",
       "      <td>360</td>\n",
       "      <td>44.30</td>\n",
       "    </tr>\n",
       "  </tbody>\n",
       "</table>\n",
       "</div>"
      ],
      "text/plain": [
       "   Cement  Blast Furnace Slag  Fly Ash  Water  Superplasticizer  \\\n",
       "0   540.0                 0.0      0.0  162.0               2.5   \n",
       "1   540.0                 0.0      0.0  162.0               2.5   \n",
       "2   332.5               142.5      0.0  228.0               0.0   \n",
       "3   332.5               142.5      0.0  228.0               0.0   \n",
       "4   198.6               132.4      0.0  192.0               0.0   \n",
       "\n",
       "   Coarse Aggregate  Fine Aggregate  Age  Strength  \n",
       "0            1040.0           676.0   28     79.99  \n",
       "1            1055.0           676.0   28     61.89  \n",
       "2             932.0           594.0  270     40.27  \n",
       "3             932.0           594.0  365     41.05  \n",
       "4             978.4           825.5  360     44.30  "
      ]
     },
     "execution_count": 3,
     "metadata": {},
     "output_type": "execute_result"
    }
   ],
   "source": [
    "concrete_data = pd.read_csv('concrete_data.csv')\n",
    "concrete_data.head()"
   ]
  },
  {
   "cell_type": "markdown",
   "metadata": {},
   "source": [
    "__Data interpretation__: From this dataset, we can see that the first concrete sample has 540 cubic meter of cement, 0 cubic meter of blast furnace slag, 0 cubic meter of fly ash, 162 cubic meter of water, 2.5 cubic meter of superplacticizer, 1040 cubic meter of coarse aggregate, 676 cubic meter of fine aggregate, and 676 cubic meter of fine aggregate. This sample id 28 days old, and has a compressive strength of 79.99 MPa."
   ]
  },
  {
   "cell_type": "markdown",
   "metadata": {},
   "source": [
    "We now need to inspect the data and potentially take steps to ensure it is accurate and relevant."
   ]
  },
  {
   "cell_type": "code",
   "execution_count": 4,
   "metadata": {
    "tags": []
   },
   "outputs": [
    {
     "data": {
      "text/html": [
       "<div>\n",
       "<style scoped>\n",
       "    .dataframe tbody tr th:only-of-type {\n",
       "        vertical-align: middle;\n",
       "    }\n",
       "\n",
       "    .dataframe tbody tr th {\n",
       "        vertical-align: top;\n",
       "    }\n",
       "\n",
       "    .dataframe thead th {\n",
       "        text-align: right;\n",
       "    }\n",
       "</style>\n",
       "<table border=\"1\" class=\"dataframe\">\n",
       "  <thead>\n",
       "    <tr style=\"text-align: right;\">\n",
       "      <th></th>\n",
       "      <th>cement</th>\n",
       "      <th>blast_furnace_slag</th>\n",
       "      <th>fly_ash</th>\n",
       "      <th>water</th>\n",
       "      <th>superplasticizer</th>\n",
       "      <th>coarse_aggregate</th>\n",
       "      <th>fine_aggregate</th>\n",
       "      <th>age</th>\n",
       "      <th>strength</th>\n",
       "    </tr>\n",
       "  </thead>\n",
       "  <tbody>\n",
       "    <tr>\n",
       "      <th>0</th>\n",
       "      <td>540.0</td>\n",
       "      <td>0.0</td>\n",
       "      <td>0.0</td>\n",
       "      <td>162.0</td>\n",
       "      <td>2.5</td>\n",
       "      <td>1040.0</td>\n",
       "      <td>676.0</td>\n",
       "      <td>28</td>\n",
       "      <td>79.99</td>\n",
       "    </tr>\n",
       "  </tbody>\n",
       "</table>\n",
       "</div>"
      ],
      "text/plain": [
       "   cement  blast_furnace_slag  fly_ash  water  superplasticizer  \\\n",
       "0   540.0                 0.0      0.0  162.0               2.5   \n",
       "\n",
       "   coarse_aggregate  fine_aggregate  age  strength  \n",
       "0            1040.0           676.0   28     79.99  "
      ]
     },
     "execution_count": 4,
     "metadata": {},
     "output_type": "execute_result"
    }
   ],
   "source": [
    "# change columns name to remove capital letters\n",
    "concrete_data.columns = concrete_data.columns.str.lower()\n",
    "# replace space with underscore\n",
    "concrete_data.columns = concrete_data.columns.str.replace(r\" \", \"_\")\n",
    "\n",
    "concrete_data.head(1)"
   ]
  },
  {
   "cell_type": "markdown",
   "metadata": {},
   "source": [
    "There are no number of symbols contained in the column names."
   ]
  },
  {
   "cell_type": "code",
   "execution_count": 5,
   "metadata": {
    "tags": []
   },
   "outputs": [
    {
     "name": "stdout",
     "output_type": "stream",
     "text": [
      "There are 1030 samples of concrete in the dataset\n"
     ]
    }
   ],
   "source": [
    "# Number of concrete samples\n",
    "print(f\"There are {concrete_data.shape[0]} samples of concrete in the dataset\")"
   ]
  },
  {
   "cell_type": "code",
   "execution_count": 6,
   "metadata": {
    "tags": []
   },
   "outputs": [
    {
     "data": {
      "text/html": [
       "<div>\n",
       "<style scoped>\n",
       "    .dataframe tbody tr th:only-of-type {\n",
       "        vertical-align: middle;\n",
       "    }\n",
       "\n",
       "    .dataframe tbody tr th {\n",
       "        vertical-align: top;\n",
       "    }\n",
       "\n",
       "    .dataframe thead th {\n",
       "        text-align: right;\n",
       "    }\n",
       "</style>\n",
       "<table border=\"1\" class=\"dataframe\">\n",
       "  <thead>\n",
       "    <tr style=\"text-align: right;\">\n",
       "      <th></th>\n",
       "      <th>cement</th>\n",
       "      <th>blast_furnace_slag</th>\n",
       "      <th>fly_ash</th>\n",
       "      <th>water</th>\n",
       "      <th>superplasticizer</th>\n",
       "      <th>coarse_aggregate</th>\n",
       "      <th>fine_aggregate</th>\n",
       "      <th>age</th>\n",
       "      <th>strength</th>\n",
       "    </tr>\n",
       "  </thead>\n",
       "  <tbody>\n",
       "    <tr>\n",
       "      <th>count</th>\n",
       "      <td>1030.000000</td>\n",
       "      <td>1030.000000</td>\n",
       "      <td>1030.000000</td>\n",
       "      <td>1030.000000</td>\n",
       "      <td>1030.000000</td>\n",
       "      <td>1030.000000</td>\n",
       "      <td>1030.000000</td>\n",
       "      <td>1030.000000</td>\n",
       "      <td>1030.000000</td>\n",
       "    </tr>\n",
       "    <tr>\n",
       "      <th>mean</th>\n",
       "      <td>281.167864</td>\n",
       "      <td>73.895825</td>\n",
       "      <td>54.188350</td>\n",
       "      <td>181.567282</td>\n",
       "      <td>6.204660</td>\n",
       "      <td>972.918932</td>\n",
       "      <td>773.580485</td>\n",
       "      <td>45.662136</td>\n",
       "      <td>35.817961</td>\n",
       "    </tr>\n",
       "    <tr>\n",
       "      <th>std</th>\n",
       "      <td>104.506364</td>\n",
       "      <td>86.279342</td>\n",
       "      <td>63.997004</td>\n",
       "      <td>21.354219</td>\n",
       "      <td>5.973841</td>\n",
       "      <td>77.753954</td>\n",
       "      <td>80.175980</td>\n",
       "      <td>63.169912</td>\n",
       "      <td>16.705742</td>\n",
       "    </tr>\n",
       "    <tr>\n",
       "      <th>min</th>\n",
       "      <td>102.000000</td>\n",
       "      <td>0.000000</td>\n",
       "      <td>0.000000</td>\n",
       "      <td>121.800000</td>\n",
       "      <td>0.000000</td>\n",
       "      <td>801.000000</td>\n",
       "      <td>594.000000</td>\n",
       "      <td>1.000000</td>\n",
       "      <td>2.330000</td>\n",
       "    </tr>\n",
       "    <tr>\n",
       "      <th>25%</th>\n",
       "      <td>192.375000</td>\n",
       "      <td>0.000000</td>\n",
       "      <td>0.000000</td>\n",
       "      <td>164.900000</td>\n",
       "      <td>0.000000</td>\n",
       "      <td>932.000000</td>\n",
       "      <td>730.950000</td>\n",
       "      <td>7.000000</td>\n",
       "      <td>23.710000</td>\n",
       "    </tr>\n",
       "    <tr>\n",
       "      <th>50%</th>\n",
       "      <td>272.900000</td>\n",
       "      <td>22.000000</td>\n",
       "      <td>0.000000</td>\n",
       "      <td>185.000000</td>\n",
       "      <td>6.400000</td>\n",
       "      <td>968.000000</td>\n",
       "      <td>779.500000</td>\n",
       "      <td>28.000000</td>\n",
       "      <td>34.445000</td>\n",
       "    </tr>\n",
       "    <tr>\n",
       "      <th>75%</th>\n",
       "      <td>350.000000</td>\n",
       "      <td>142.950000</td>\n",
       "      <td>118.300000</td>\n",
       "      <td>192.000000</td>\n",
       "      <td>10.200000</td>\n",
       "      <td>1029.400000</td>\n",
       "      <td>824.000000</td>\n",
       "      <td>56.000000</td>\n",
       "      <td>46.135000</td>\n",
       "    </tr>\n",
       "    <tr>\n",
       "      <th>max</th>\n",
       "      <td>540.000000</td>\n",
       "      <td>359.400000</td>\n",
       "      <td>200.100000</td>\n",
       "      <td>247.000000</td>\n",
       "      <td>32.200000</td>\n",
       "      <td>1145.000000</td>\n",
       "      <td>992.600000</td>\n",
       "      <td>365.000000</td>\n",
       "      <td>82.600000</td>\n",
       "    </tr>\n",
       "  </tbody>\n",
       "</table>\n",
       "</div>"
      ],
      "text/plain": [
       "            cement  blast_furnace_slag      fly_ash        water  \\\n",
       "count  1030.000000         1030.000000  1030.000000  1030.000000   \n",
       "mean    281.167864           73.895825    54.188350   181.567282   \n",
       "std     104.506364           86.279342    63.997004    21.354219   \n",
       "min     102.000000            0.000000     0.000000   121.800000   \n",
       "25%     192.375000            0.000000     0.000000   164.900000   \n",
       "50%     272.900000           22.000000     0.000000   185.000000   \n",
       "75%     350.000000          142.950000   118.300000   192.000000   \n",
       "max     540.000000          359.400000   200.100000   247.000000   \n",
       "\n",
       "       superplasticizer  coarse_aggregate  fine_aggregate          age  \\\n",
       "count       1030.000000       1030.000000     1030.000000  1030.000000   \n",
       "mean           6.204660        972.918932      773.580485    45.662136   \n",
       "std            5.973841         77.753954       80.175980    63.169912   \n",
       "min            0.000000        801.000000      594.000000     1.000000   \n",
       "25%            0.000000        932.000000      730.950000     7.000000   \n",
       "50%            6.400000        968.000000      779.500000    28.000000   \n",
       "75%           10.200000       1029.400000      824.000000    56.000000   \n",
       "max           32.200000       1145.000000      992.600000   365.000000   \n",
       "\n",
       "          strength  \n",
       "count  1030.000000  \n",
       "mean     35.817961  \n",
       "std      16.705742  \n",
       "min       2.330000  \n",
       "25%      23.710000  \n",
       "50%      34.445000  \n",
       "75%      46.135000  \n",
       "max      82.600000  "
      ]
     },
     "execution_count": 6,
     "metadata": {},
     "output_type": "execute_result"
    }
   ],
   "source": [
    "concrete_data.describe()"
   ]
  },
  {
   "cell_type": "code",
   "execution_count": 7,
   "metadata": {
    "tags": []
   },
   "outputs": [
    {
     "data": {
      "text/plain": [
       "cement                0\n",
       "blast_furnace_slag    0\n",
       "fly_ash               0\n",
       "water                 0\n",
       "superplasticizer      0\n",
       "coarse_aggregate      0\n",
       "fine_aggregate        0\n",
       "age                   0\n",
       "strength              0\n",
       "dtype: int64"
      ]
     },
     "execution_count": 7,
     "metadata": {},
     "output_type": "execute_result"
    }
   ],
   "source": [
    "concrete_data.isnull().sum()"
   ]
  },
  {
   "cell_type": "markdown",
   "metadata": {},
   "source": [
    "There is not missing value, and nothing looks out of reasonable expectations. The data looks clean and we can proceed with building our model."
   ]
  },
  {
   "cell_type": "markdown",
   "metadata": {},
   "source": [
    "## Part A: Build a baseline model"
   ]
  },
  {
   "cell_type": "markdown",
   "metadata": {},
   "source": [
    "__Instructions__:\n",
    "Use the Keras library to build a neural network with the following:\n",
    "- One hidden layer of 10 nodes, and a ReLU activation function\n",
    "- Use the adam optimizer and the mean squared error  as the loss function.\n",
    "\n",
    "1. Randomly split the data into a training and test sets by holding 30% of the data for testing. You can use the \n",
    "train_test_split helper function from Scikit-learn.\n",
    "\n",
    "2. Train the model on the training data using 50 epochs.\n",
    "\n",
    "3. Evaluate the model on the test data and compute the mean squared error between the predicted concrete strength and the actual concrete strength. You can use the mean_squared_error function from Scikit-learn.\n",
    "\n",
    "4. Repeat steps 1 - 3, 50 times, i.e., create a list of 50 mean squared errors.\n",
    "\n",
    "5. Report the mean and the standard deviation of the mean squared errors."
   ]
  },
  {
   "cell_type": "markdown",
   "metadata": {},
   "source": [
    "The first step to build our model with Keras is to import the required libraries"
   ]
  },
  {
   "cell_type": "code",
   "execution_count": 8,
   "metadata": {
    "tags": []
   },
   "outputs": [],
   "source": [
    "%%capture [--no-display]\n",
    "# import keras library\n",
    "import keras\n",
    "\n",
    "# import additional keras package required for building the model\n",
    "from keras.models import Sequential\n",
    "from keras.layers import Dense"
   ]
  },
  {
   "cell_type": "markdown",
   "metadata": {},
   "source": [
    "We are now going to create a function to define our Keras model."
   ]
  },
  {
   "cell_type": "code",
   "execution_count": 9,
   "metadata": {
    "tags": []
   },
   "outputs": [],
   "source": [
    "# define regression model\n",
    "def regression_model():\n",
    "    # This function defines the regression model with one hidden layer only with 10 nodes\n",
    "    model = Sequential()\n",
    "    model.add(Dense(10, activation = 'relu', input_shape=(n_cols,))) #One hidden layer of 10 nodes, and a ReLU activation function\n",
    "    model.add(Dense(1))  # output layer\n",
    "    \n",
    "    # compile the model\n",
    "    model.compile(optimizer='adam', loss='mean_squared_error') #Use the adam optimizer and the mean squared error as the loss function\n",
    "    \n",
    "    return model"
   ]
  },
  {
   "cell_type": "markdown",
   "metadata": {},
   "source": [
    "1. Randomly split the data into a training and test sets by holding 30% of the data for testing. You can use the \n",
    "train_test_split helper function from Scikit-learn."
   ]
  },
  {
   "cell_type": "markdown",
   "metadata": {},
   "source": [
    "Before spliting the data into  training and test sets, we first need to isolate out target and our predictors."
   ]
  },
  {
   "cell_type": "code",
   "execution_count": 10,
   "metadata": {
    "tags": []
   },
   "outputs": [],
   "source": [
    "concrete_data_columns = concrete_data.columns\n",
    "\n",
    "predictors = concrete_data[concrete_data_columns[concrete_data_columns != 'strength']]\n",
    "target = concrete_data['strength']"
   ]
  },
  {
   "cell_type": "markdown",
   "metadata": {},
   "source": [
    "Let's inspect the new dataframe with the predictors, and the pandas series with the target."
   ]
  },
  {
   "cell_type": "code",
   "execution_count": 11,
   "metadata": {
    "tags": []
   },
   "outputs": [
    {
     "data": {
      "text/html": [
       "<div>\n",
       "<style scoped>\n",
       "    .dataframe tbody tr th:only-of-type {\n",
       "        vertical-align: middle;\n",
       "    }\n",
       "\n",
       "    .dataframe tbody tr th {\n",
       "        vertical-align: top;\n",
       "    }\n",
       "\n",
       "    .dataframe thead th {\n",
       "        text-align: right;\n",
       "    }\n",
       "</style>\n",
       "<table border=\"1\" class=\"dataframe\">\n",
       "  <thead>\n",
       "    <tr style=\"text-align: right;\">\n",
       "      <th></th>\n",
       "      <th>cement</th>\n",
       "      <th>blast_furnace_slag</th>\n",
       "      <th>fly_ash</th>\n",
       "      <th>water</th>\n",
       "      <th>superplasticizer</th>\n",
       "      <th>coarse_aggregate</th>\n",
       "      <th>fine_aggregate</th>\n",
       "      <th>age</th>\n",
       "    </tr>\n",
       "  </thead>\n",
       "  <tbody>\n",
       "    <tr>\n",
       "      <th>0</th>\n",
       "      <td>540.0</td>\n",
       "      <td>0.0</td>\n",
       "      <td>0.0</td>\n",
       "      <td>162.0</td>\n",
       "      <td>2.5</td>\n",
       "      <td>1040.0</td>\n",
       "      <td>676.0</td>\n",
       "      <td>28</td>\n",
       "    </tr>\n",
       "    <tr>\n",
       "      <th>1</th>\n",
       "      <td>540.0</td>\n",
       "      <td>0.0</td>\n",
       "      <td>0.0</td>\n",
       "      <td>162.0</td>\n",
       "      <td>2.5</td>\n",
       "      <td>1055.0</td>\n",
       "      <td>676.0</td>\n",
       "      <td>28</td>\n",
       "    </tr>\n",
       "    <tr>\n",
       "      <th>2</th>\n",
       "      <td>332.5</td>\n",
       "      <td>142.5</td>\n",
       "      <td>0.0</td>\n",
       "      <td>228.0</td>\n",
       "      <td>0.0</td>\n",
       "      <td>932.0</td>\n",
       "      <td>594.0</td>\n",
       "      <td>270</td>\n",
       "    </tr>\n",
       "    <tr>\n",
       "      <th>3</th>\n",
       "      <td>332.5</td>\n",
       "      <td>142.5</td>\n",
       "      <td>0.0</td>\n",
       "      <td>228.0</td>\n",
       "      <td>0.0</td>\n",
       "      <td>932.0</td>\n",
       "      <td>594.0</td>\n",
       "      <td>365</td>\n",
       "    </tr>\n",
       "    <tr>\n",
       "      <th>4</th>\n",
       "      <td>198.6</td>\n",
       "      <td>132.4</td>\n",
       "      <td>0.0</td>\n",
       "      <td>192.0</td>\n",
       "      <td>0.0</td>\n",
       "      <td>978.4</td>\n",
       "      <td>825.5</td>\n",
       "      <td>360</td>\n",
       "    </tr>\n",
       "  </tbody>\n",
       "</table>\n",
       "</div>"
      ],
      "text/plain": [
       "   cement  blast_furnace_slag  fly_ash  water  superplasticizer  \\\n",
       "0   540.0                 0.0      0.0  162.0               2.5   \n",
       "1   540.0                 0.0      0.0  162.0               2.5   \n",
       "2   332.5               142.5      0.0  228.0               0.0   \n",
       "3   332.5               142.5      0.0  228.0               0.0   \n",
       "4   198.6               132.4      0.0  192.0               0.0   \n",
       "\n",
       "   coarse_aggregate  fine_aggregate  age  \n",
       "0            1040.0           676.0   28  \n",
       "1            1055.0           676.0   28  \n",
       "2             932.0           594.0  270  \n",
       "3             932.0           594.0  365  \n",
       "4             978.4           825.5  360  "
      ]
     },
     "execution_count": 11,
     "metadata": {},
     "output_type": "execute_result"
    }
   ],
   "source": [
    "predictors.head() # strength column has been removed"
   ]
  },
  {
   "cell_type": "code",
   "execution_count": 12,
   "metadata": {
    "tags": []
   },
   "outputs": [
    {
     "data": {
      "text/plain": [
       "0    79.99\n",
       "1    61.89\n",
       "2    40.27\n",
       "3    41.05\n",
       "4    44.30\n",
       "Name: strength, dtype: float64"
      ]
     },
     "execution_count": 12,
     "metadata": {},
     "output_type": "execute_result"
    }
   ],
   "source": [
    "target.head() # only the column 'strength' is left"
   ]
  },
  {
   "cell_type": "markdown",
   "metadata": {},
   "source": [
    "The values in the predictors dataframe varies in a wide ranges between predictors. We need to normalise the data to prevent one predictor dominating the others."
   ]
  },
  {
   "cell_type": "markdown",
   "metadata": {},
   "source": [
    "__Note__: I initially normalised the data as it made sense to me. However, the normalisation of the data will need to be addressed in Part B and has been moved in that section"
   ]
  },
  {
   "cell_type": "markdown",
   "metadata": {},
   "source": [
    "The last remaining step is to identify the number of predictors, as it will be required when building the network"
   ]
  },
  {
   "cell_type": "code",
   "execution_count": 13,
   "metadata": {
    "tags": []
   },
   "outputs": [
    {
     "name": "stdout",
     "output_type": "stream",
     "text": [
      "There are 8 predictors for our model\n"
     ]
    }
   ],
   "source": [
    "n_cols = predictors.shape[1]\n",
    "print(f\"There are {n_cols} predictors for our model\")"
   ]
  },
  {
   "cell_type": "markdown",
   "metadata": {},
   "source": [
    "__Train and test the network__"
   ]
  },
  {
   "cell_type": "code",
   "execution_count": 14,
   "metadata": {
    "tags": []
   },
   "outputs": [],
   "source": [
    "# split the dataset in training and testing sets\n",
    "x_train, x_test, y_train, y_test = train_test_split(predictors, target, test_size=0.3)"
   ]
  },
  {
   "cell_type": "markdown",
   "metadata": {},
   "source": [
    "2. Train the model on the training data using 50 epochs."
   ]
  },
  {
   "cell_type": "code",
   "execution_count": 15,
   "metadata": {
    "tags": []
   },
   "outputs": [
    {
     "name": "stdout",
     "output_type": "stream",
     "text": [
      "Epoch 1/50\n",
      " 32/721 [>.............................] - ETA: 4s - loss: 223988.4688"
     ]
    },
    {
     "name": "stderr",
     "output_type": "stream",
     "text": [
      "2023-11-10 13:20:15.828515: I tensorflow/core/platform/cpu_feature_guard.cc:142] Your CPU supports instructions that this TensorFlow binary was not compiled to use: SSE4.1 SSE4.2 AVX AVX2 AVX512F FMA\n",
      "2023-11-10 13:20:15.837384: I tensorflow/core/platform/profile_utils/cpu_utils.cc:94] CPU Frequency: 2394275000 Hz\n",
      "2023-11-10 13:20:15.838341: I tensorflow/compiler/xla/service/service.cc:168] XLA service 0x558c674ccdf0 executing computations on platform Host. Devices:\n",
      "2023-11-10 13:20:15.838389: I tensorflow/compiler/xla/service/service.cc:175]   StreamExecutor device (0): <undefined>, <undefined>\n",
      "2023-11-10 13:20:15.911901: W tensorflow/compiler/jit/mark_for_compilation_pass.cc:1412] (One-time warning): Not using XLA:CPU for cluster because envvar TF_XLA_FLAGS=--tf_xla_cpu_global_jit was not set.  If you want XLA:CPU, either set that envvar, or use experimental_jit_scope to enable XLA:CPU.  To confirm that XLA is active, pass --vmodule=xla_compilation_cache=1 (as a proper command-line flag, not via TF_XLA_FLAGS) or set the envvar XLA_FLAGS=--xla_hlo_profile.\n"
     ]
    },
    {
     "name": "stdout",
     "output_type": "stream",
     "text": [
      "721/721 [==============================] - 0s 341us/step - loss: 164809.2159\n",
      "Epoch 2/50\n",
      "721/721 [==============================] - 0s 111us/step - loss: 67503.3465\n",
      "Epoch 3/50\n",
      "721/721 [==============================] - 0s 88us/step - loss: 26462.8275\n",
      "Epoch 4/50\n",
      "721/721 [==============================] - 0s 106us/step - loss: 11723.7863\n",
      "Epoch 5/50\n",
      "721/721 [==============================] - 0s 87us/step - loss: 6707.8320\n",
      "Epoch 6/50\n",
      "721/721 [==============================] - 0s 86us/step - loss: 4861.9023\n",
      "Epoch 7/50\n",
      "721/721 [==============================] - 0s 76us/step - loss: 4080.8498\n",
      "Epoch 8/50\n",
      "721/721 [==============================] - 0s 81us/step - loss: 3628.2201\n",
      "Epoch 9/50\n",
      "721/721 [==============================] - 0s 63us/step - loss: 3278.6836\n",
      "Epoch 10/50\n",
      "721/721 [==============================] - 0s 74us/step - loss: 2966.0324\n",
      "Epoch 11/50\n",
      "721/721 [==============================] - 0s 62us/step - loss: 2669.1118\n",
      "Epoch 12/50\n",
      "721/721 [==============================] - 0s 61us/step - loss: 2401.6760\n",
      "Epoch 13/50\n",
      "721/721 [==============================] - 0s 63us/step - loss: 2141.1509\n",
      "Epoch 14/50\n",
      "721/721 [==============================] - 0s 63us/step - loss: 1911.9711\n",
      "Epoch 15/50\n",
      "721/721 [==============================] - 0s 80us/step - loss: 1703.5357\n",
      "Epoch 16/50\n",
      "721/721 [==============================] - 0s 58us/step - loss: 1516.9522\n",
      "Epoch 17/50\n",
      "721/721 [==============================] - 0s 72us/step - loss: 1353.6192\n",
      "Epoch 18/50\n",
      "721/721 [==============================] - 0s 59us/step - loss: 1208.9886\n",
      "Epoch 19/50\n",
      "721/721 [==============================] - 0s 61us/step - loss: 1087.8055\n",
      "Epoch 20/50\n",
      "721/721 [==============================] - 0s 58us/step - loss: 979.1466\n",
      "Epoch 21/50\n",
      "721/721 [==============================] - 0s 58us/step - loss: 885.4333\n",
      "Epoch 22/50\n",
      "721/721 [==============================] - 0s 57us/step - loss: 802.5216\n",
      "Epoch 23/50\n",
      "721/721 [==============================] - 0s 59us/step - loss: 732.1087\n",
      "Epoch 24/50\n",
      "721/721 [==============================] - 0s 58us/step - loss: 668.5491\n",
      "Epoch 25/50\n",
      "721/721 [==============================] - 0s 66us/step - loss: 611.9533\n",
      "Epoch 26/50\n",
      "721/721 [==============================] - 0s 61us/step - loss: 562.4702\n",
      "Epoch 27/50\n",
      "721/721 [==============================] - 0s 56us/step - loss: 521.0881\n",
      "Epoch 28/50\n",
      "721/721 [==============================] - 0s 72us/step - loss: 481.2769\n",
      "Epoch 29/50\n",
      "721/721 [==============================] - 0s 57us/step - loss: 447.7265\n",
      "Epoch 30/50\n",
      "721/721 [==============================] - 0s 59us/step - loss: 418.3576\n",
      "Epoch 31/50\n",
      "721/721 [==============================] - 0s 62us/step - loss: 392.1177\n",
      "Epoch 32/50\n",
      "721/721 [==============================] - 0s 68us/step - loss: 368.9418\n",
      "Epoch 33/50\n",
      "721/721 [==============================] - 0s 59us/step - loss: 348.4953\n",
      "Epoch 34/50\n",
      "721/721 [==============================] - 0s 56us/step - loss: 331.2217\n",
      "Epoch 35/50\n",
      "721/721 [==============================] - 0s 52us/step - loss: 315.7171\n",
      "Epoch 36/50\n",
      "721/721 [==============================] - 0s 59us/step - loss: 300.7488\n",
      "Epoch 37/50\n",
      "721/721 [==============================] - 0s 52us/step - loss: 287.4657\n",
      "Epoch 38/50\n",
      "721/721 [==============================] - 0s 55us/step - loss: 275.9582\n",
      "Epoch 39/50\n",
      "721/721 [==============================] - 0s 57us/step - loss: 265.6657\n",
      "Epoch 40/50\n",
      "721/721 [==============================] - 0s 67us/step - loss: 256.4334\n",
      "Epoch 41/50\n",
      "721/721 [==============================] - 0s 55us/step - loss: 247.5733\n",
      "Epoch 42/50\n",
      "721/721 [==============================] - 0s 57us/step - loss: 239.9132\n",
      "Epoch 43/50\n",
      "721/721 [==============================] - 0s 66us/step - loss: 232.6705\n",
      "Epoch 44/50\n",
      "721/721 [==============================] - 0s 44us/step - loss: 225.8309\n",
      "Epoch 45/50\n",
      "721/721 [==============================] - 0s 54us/step - loss: 220.4469\n",
      "Epoch 46/50\n",
      "721/721 [==============================] - 0s 57us/step - loss: 214.8546\n",
      "Epoch 47/50\n",
      "721/721 [==============================] - 0s 56us/step - loss: 210.2416\n",
      "Epoch 48/50\n",
      "721/721 [==============================] - 0s 57us/step - loss: 205.7797\n",
      "Epoch 49/50\n",
      "721/721 [==============================] - 0s 55us/step - loss: 201.7675\n",
      "Epoch 50/50\n",
      "721/721 [==============================] - 0s 55us/step - loss: 198.0868\n"
     ]
    },
    {
     "data": {
      "text/plain": [
       "<keras.callbacks.History at 0x7f80a2b74850>"
      ]
     },
     "execution_count": 15,
     "metadata": {},
     "output_type": "execute_result"
    }
   ],
   "source": [
    "# create the model using the function defined before\n",
    "model = regression_model()\n",
    "\n",
    "# fit the model on training set\n",
    "model.fit(x_train, y_train, epochs=50, verbose=1) # verbose to visualise progress"
   ]
  },
  {
   "cell_type": "markdown",
   "metadata": {},
   "source": [
    "3. Evaluate the model on the test data and compute the mean squared error between the predicted concrete strength and the actual concrete strength. You can use the mean_squared_error function from Scikit-learn."
   ]
  },
  {
   "cell_type": "code",
   "execution_count": 16,
   "metadata": {
    "tags": []
   },
   "outputs": [
    {
     "name": "stdout",
     "output_type": "stream",
     "text": [
      "The mean squared error between the predicted concrete strength and the actual concrete strength is 208.53674470990944\n"
     ]
    }
   ],
   "source": [
    "from sklearn.metrics import mean_squared_error\n",
    "y_predict = model.predict(x_test)\n",
    "result = mean_squared_error(y_test, y_predict)\n",
    "print(f\"The mean squared error between the predicted concrete strength and the actual concrete strength is {result}\")"
   ]
  },
  {
   "cell_type": "markdown",
   "metadata": {},
   "source": [
    "4. Repeat steps 1 - 3, 50 times, i.e., create a list of 50 mean squared errors."
   ]
  },
  {
   "cell_type": "code",
   "execution_count": 17,
   "metadata": {
    "tags": []
   },
   "outputs": [],
   "source": [
    "%%capture [--no-display]\n",
    "# create list that will contain the mean squared errors\n",
    "mean_square_errors_list_A = []\n",
    "\n",
    "# iterate steps 1-3 50 times\n",
    "counter = 0\n",
    "while counter in range(0, 50):\n",
    "    print(f\"Round {counter}\")\n",
    "    x_train, x_test, y_train, y_test = train_test_split(predictors, target, test_size=0.3) # step 1\n",
    "    model.fit(x_train, y_train, epochs=50) # step 2\n",
    "    y_predict = model.predict(x_test) # step 3\n",
    "    result = mean_squared_error(y_test, y_predict)\n",
    "    counter+=1\n",
    "    \n",
    "    mean_square_errors_list_A.append(result)\n"
   ]
  },
  {
   "cell_type": "code",
   "execution_count": 18,
   "metadata": {
    "tags": []
   },
   "outputs": [
    {
     "name": "stdout",
     "output_type": "stream",
     "text": [
      "[156.63073989017437, 130.87847160333433, 108.18870390808101, 134.19299146954532, 123.5155764047541, 111.5508998371937, 115.3841478588315, 116.9860347041671, 114.91447999520159, 101.37286795473584, 119.50496653189612, 116.61892480134799, 120.7152150614217, 114.96690573636762, 111.21402075471227, 119.32388671101901, 112.04842532465437, 97.25275981228343, 94.56616997761734, 113.72916298330364, 114.67004799330152, 123.22864394832399, 116.58026329040598, 118.20706475346235, 105.83450431129815, 98.41161021968682, 111.6054163598506, 113.27345993176603, 115.4325208796883, 116.13301758309144, 103.91404317654863, 129.7344871391751, 118.79505505080259, 120.7289981731, 107.03975869450461, 120.8778587836509, 107.01682739340669, 131.008575681749, 120.25499528983701, 100.02688409268177, 120.29005160773217, 107.50896280439588, 108.58687154408803, 108.68007179029831, 105.8739306420485, 107.42146062646921, 113.36660530749856, 123.46071599166766, 112.08537371685414, 104.10991034889733]\n"
     ]
    }
   ],
   "source": [
    "print(mean_square_errors_list_A)"
   ]
  },
  {
   "cell_type": "markdown",
   "metadata": {},
   "source": [
    "5. Report the mean and the standard deviation of the mean squared errors."
   ]
  },
  {
   "cell_type": "code",
   "execution_count": 19,
   "metadata": {
    "tags": []
   },
   "outputs": [
    {
     "name": "stdout",
     "output_type": "stream",
     "text": [
      "The mean of the mean squared error is 114.75426676893846 and its standard deviation is 10.616301241837757\n"
     ]
    }
   ],
   "source": [
    "# mean of the mean squared errors\n",
    "mean_sqr_errors_A = statistics.mean(mean_square_errors_list_A)\n",
    "\n",
    "# standard deviation of the mean squared errors\n",
    "std_sqr_errors_A = statistics.stdev(mean_square_errors_list_A)\n",
    "\n",
    "# print answers\n",
    "print(f\"The mean of the mean squared error is {mean_sqr_errors_A} and its standard deviation is {std_sqr_errors_A}\")"
   ]
  },
  {
   "cell_type": "markdown",
   "metadata": {},
   "source": [
    "This conclude Part A"
   ]
  },
  {
   "cell_type": "markdown",
   "metadata": {},
   "source": [
    "## Part B: Normalise the data"
   ]
  },
  {
   "cell_type": "markdown",
   "metadata": {},
   "source": [
    "__Instructions__:\n",
    "Repeat Part A but use a normalized version of the data. Recall that one way to normalize the data is by subtracting the mean from the individual predictors and dividing by the standard deviation.\n",
    "\n",
    "How does the mean of the mean squared errors compare to that from Step A?"
   ]
  },
  {
   "cell_type": "code",
   "execution_count": 20,
   "metadata": {
    "tags": []
   },
   "outputs": [
    {
     "data": {
      "text/html": [
       "<div>\n",
       "<style scoped>\n",
       "    .dataframe tbody tr th:only-of-type {\n",
       "        vertical-align: middle;\n",
       "    }\n",
       "\n",
       "    .dataframe tbody tr th {\n",
       "        vertical-align: top;\n",
       "    }\n",
       "\n",
       "    .dataframe thead th {\n",
       "        text-align: right;\n",
       "    }\n",
       "</style>\n",
       "<table border=\"1\" class=\"dataframe\">\n",
       "  <thead>\n",
       "    <tr style=\"text-align: right;\">\n",
       "      <th></th>\n",
       "      <th>cement</th>\n",
       "      <th>blast_furnace_slag</th>\n",
       "      <th>fly_ash</th>\n",
       "      <th>water</th>\n",
       "      <th>superplasticizer</th>\n",
       "      <th>coarse_aggregate</th>\n",
       "      <th>fine_aggregate</th>\n",
       "      <th>age</th>\n",
       "    </tr>\n",
       "  </thead>\n",
       "  <tbody>\n",
       "    <tr>\n",
       "      <th>0</th>\n",
       "      <td>2.476712</td>\n",
       "      <td>-0.856472</td>\n",
       "      <td>-0.846733</td>\n",
       "      <td>-0.916319</td>\n",
       "      <td>-0.620147</td>\n",
       "      <td>0.862735</td>\n",
       "      <td>-1.217079</td>\n",
       "      <td>-0.279597</td>\n",
       "    </tr>\n",
       "    <tr>\n",
       "      <th>1</th>\n",
       "      <td>2.476712</td>\n",
       "      <td>-0.856472</td>\n",
       "      <td>-0.846733</td>\n",
       "      <td>-0.916319</td>\n",
       "      <td>-0.620147</td>\n",
       "      <td>1.055651</td>\n",
       "      <td>-1.217079</td>\n",
       "      <td>-0.279597</td>\n",
       "    </tr>\n",
       "    <tr>\n",
       "      <th>2</th>\n",
       "      <td>0.491187</td>\n",
       "      <td>0.795140</td>\n",
       "      <td>-0.846733</td>\n",
       "      <td>2.174405</td>\n",
       "      <td>-1.038638</td>\n",
       "      <td>-0.526262</td>\n",
       "      <td>-2.239829</td>\n",
       "      <td>3.551340</td>\n",
       "    </tr>\n",
       "    <tr>\n",
       "      <th>3</th>\n",
       "      <td>0.491187</td>\n",
       "      <td>0.795140</td>\n",
       "      <td>-0.846733</td>\n",
       "      <td>2.174405</td>\n",
       "      <td>-1.038638</td>\n",
       "      <td>-0.526262</td>\n",
       "      <td>-2.239829</td>\n",
       "      <td>5.055221</td>\n",
       "    </tr>\n",
       "    <tr>\n",
       "      <th>4</th>\n",
       "      <td>-0.790075</td>\n",
       "      <td>0.678079</td>\n",
       "      <td>-0.846733</td>\n",
       "      <td>0.488555</td>\n",
       "      <td>-1.038638</td>\n",
       "      <td>0.070492</td>\n",
       "      <td>0.647569</td>\n",
       "      <td>4.976069</td>\n",
       "    </tr>\n",
       "  </tbody>\n",
       "</table>\n",
       "</div>"
      ],
      "text/plain": [
       "     cement  blast_furnace_slag   fly_ash     water  superplasticizer  \\\n",
       "0  2.476712           -0.856472 -0.846733 -0.916319         -0.620147   \n",
       "1  2.476712           -0.856472 -0.846733 -0.916319         -0.620147   \n",
       "2  0.491187            0.795140 -0.846733  2.174405         -1.038638   \n",
       "3  0.491187            0.795140 -0.846733  2.174405         -1.038638   \n",
       "4 -0.790075            0.678079 -0.846733  0.488555         -1.038638   \n",
       "\n",
       "   coarse_aggregate  fine_aggregate       age  \n",
       "0          0.862735       -1.217079 -0.279597  \n",
       "1          1.055651       -1.217079 -0.279597  \n",
       "2         -0.526262       -2.239829  3.551340  \n",
       "3         -0.526262       -2.239829  5.055221  \n",
       "4          0.070492        0.647569  4.976069  "
      ]
     },
     "execution_count": 20,
     "metadata": {},
     "output_type": "execute_result"
    }
   ],
   "source": [
    "# predictors normalisation\n",
    "predictors_norm = (predictors-predictors.mean()) / predictors.std()\n",
    "predictors_norm.head()"
   ]
  },
  {
   "cell_type": "markdown",
   "metadata": {},
   "source": [
    "The data has been normalised. We now need to retrain the model with the new values."
   ]
  },
  {
   "cell_type": "code",
   "execution_count": 21,
   "metadata": {
    "tags": []
   },
   "outputs": [],
   "source": [
    "%%capture [--no-display]\n",
    "# create the model using the function defined before\n",
    "model_B = regression_model()\n",
    "\n",
    "# create list that will contain the mean squared errors\n",
    "mean_square_errors_list_B = []\n",
    "\n",
    "# iterate steps 1-3 50 times\n",
    "counter = 0\n",
    "while counter in range(0, 50):\n",
    "    x_train, x_test, y_train, y_test = train_test_split(predictors_norm, target, test_size=0.3) # step 1\n",
    "    model.fit(x_train, y_train, epochs=50) # step 2\n",
    "    y_predict = model.predict(x_test) # step 3\n",
    "    result = mean_squared_error(y_test, y_predict)\n",
    "    counter+=1\n",
    "    \n",
    "    mean_square_errors_list_B.append(result)\n"
   ]
  },
  {
   "cell_type": "code",
   "execution_count": 22,
   "metadata": {
    "tags": []
   },
   "outputs": [
    {
     "name": "stdout",
     "output_type": "stream",
     "text": [
      "[218.1037488618076, 115.83718880258775, 91.18769495604582, 60.69843389796072, 53.36486691734539, 42.232604186771134, 43.92867270711726, 38.76606808123326, 40.20609734545815, 34.30828371573747, 39.49833591666611, 42.20007659603272, 35.68336343007764, 40.227557034337906, 33.948573286899865, 35.15918810387714, 35.86215323452249, 31.037809191912295, 33.298405879992, 38.048335425744824, 36.590971595255446, 33.01936249640849, 35.54514609389909, 34.07181764258628, 29.189261859161366, 32.40924583554789, 34.2700594230721, 28.69443428784152, 31.522585632327797, 30.26007277472776, 35.99659568908409, 34.36633099273335, 31.430675934052424, 33.94725213232495, 32.69720572646266, 31.5769205296703, 30.366225670335893, 34.79646092836678, 34.323250752500215, 28.093416875691485, 36.08702870013701, 31.77051804441494, 32.28835341165842, 26.760039853918247, 35.02805760808318, 34.884302743355505, 30.924823719728586, 31.21140196394873, 29.689198311182732, 30.366127698519133]\n"
     ]
    }
   ],
   "source": [
    "print(mean_square_errors_list_B)"
   ]
  },
  {
   "cell_type": "code",
   "execution_count": 23,
   "metadata": {
    "tags": []
   },
   "outputs": [
    {
     "name": "stdout",
     "output_type": "stream",
     "text": [
      "The mean of the mean squared error is 41.51549204998248 and its standard deviation is 29.550926625549604\n"
     ]
    }
   ],
   "source": [
    "# mean of the mean squared errors\n",
    "mean_sqr_errors_B = statistics.mean(mean_square_errors_list_B)\n",
    "\n",
    "# standard deviation of the mean squared errors\n",
    "std_sqr_errors_B = statistics.stdev(mean_square_errors_list_B)\n",
    "\n",
    "# print answers\n",
    "print(f\"The mean of the mean squared error is {mean_sqr_errors_B} and its standard deviation is {std_sqr_errors_B}\")"
   ]
  },
  {
   "cell_type": "markdown",
   "metadata": {},
   "source": [
    "__Conclusion__:"
   ]
  },
  {
   "cell_type": "code",
   "execution_count": 24,
   "metadata": {
    "tags": []
   },
   "outputs": [
    {
     "data": {
      "text/html": [
       "<div>\n",
       "<style scoped>\n",
       "    .dataframe tbody tr th:only-of-type {\n",
       "        vertical-align: middle;\n",
       "    }\n",
       "\n",
       "    .dataframe tbody tr th {\n",
       "        vertical-align: top;\n",
       "    }\n",
       "\n",
       "    .dataframe thead th {\n",
       "        text-align: right;\n",
       "    }\n",
       "</style>\n",
       "<table border=\"1\" class=\"dataframe\">\n",
       "  <thead>\n",
       "    <tr style=\"text-align: right;\">\n",
       "      <th></th>\n",
       "      <th>Model A</th>\n",
       "      <th>Model B</th>\n",
       "    </tr>\n",
       "    <tr>\n",
       "      <th>Index</th>\n",
       "      <th></th>\n",
       "      <th></th>\n",
       "    </tr>\n",
       "  </thead>\n",
       "  <tbody>\n",
       "    <tr>\n",
       "      <th>Mean sqr errors</th>\n",
       "      <td>114.754267</td>\n",
       "      <td>41.515492</td>\n",
       "    </tr>\n",
       "    <tr>\n",
       "      <th>std deviation</th>\n",
       "      <td>10.616301</td>\n",
       "      <td>29.550927</td>\n",
       "    </tr>\n",
       "  </tbody>\n",
       "</table>\n",
       "</div>"
      ],
      "text/plain": [
       "                    Model A    Model B\n",
       "Index                                 \n",
       "Mean sqr errors  114.754267  41.515492\n",
       "std deviation     10.616301  29.550927"
      ]
     },
     "execution_count": 24,
     "metadata": {},
     "output_type": "execute_result"
    }
   ],
   "source": [
    "dict_comparison = {'Index': ['Mean sqr errors', 'std deviation'], 'Model A': [mean_sqr_errors_A, std_sqr_errors_A], 'Model B': [mean_sqr_errors_B, std_sqr_errors_B]}\n",
    "comparison_df = pd.DataFrame(dict_comparison).set_index('Index')\n",
    "comparison_df"
   ]
  },
  {
   "cell_type": "code",
   "execution_count": 25,
   "metadata": {},
   "outputs": [
    {
     "data": {
      "text/plain": [
       "Text(0, 0.5, 'Mean of mean squared errors')"
      ]
     },
     "execution_count": 25,
     "metadata": {},
     "output_type": "execute_result"
    },
    {
     "data": {
      "image/png": "[encoded data removed]",
      "text/plain": [
       "<Figure size 640x480 with 1 Axes>"
      ]
     },
     "metadata": {},
     "output_type": "display_data"
    }
   ],
   "source": [
    "# visualise difference between model A and B\n",
    "sns.boxplot(data=[mean_square_errors_list_A, mean_square_errors_list_B], showfliers=False)\n",
    "plt.title(\"Comparison of mean of mean squared errors between Models A and B\")\n",
    "plt.ylabel(\"Mean of mean squared errors\")"
   ]
  },
  {
   "cell_type": "markdown",
   "metadata": {},
   "source": [
    "__Question__: How does the mean of the mean squared errors compare to that from Step A?\n",
    "\n",
    "From the dataframe and graphs above, we can see that the mean of mean squared errors decreased significantly in Model B, after normalisation of the data. "
   ]
  },
  {
   "cell_type": "markdown",
   "metadata": {},
   "source": [
    "## Part C: Increase the number of epochs"
   ]
  },
  {
   "cell_type": "markdown",
   "metadata": {},
   "source": [
    "__Instructions__:\n",
    "Repeat Part B but use 100 epochs this time for training.\n",
    "\n",
    "How does the mean of the mean squared errors compare to that from Step B?"
   ]
  },
  {
   "cell_type": "code",
   "execution_count": 26,
   "metadata": {
    "tags": []
   },
   "outputs": [],
   "source": [
    "%%capture [--no-display]\n",
    "# create the model using the function defined before\n",
    "model_C = regression_model()\n",
    "\n",
    "# create list that will contain the mean squared errors\n",
    "mean_square_errors_list_C = []\n",
    "\n",
    "# iterate steps 1-3 50 times\n",
    "counter = 0\n",
    "while counter in range(0, 50):\n",
    "    x_train, x_test, y_train, y_test = train_test_split(predictors_norm, target, test_size=0.3) # step 1\n",
    "    model.fit(x_train, y_train, epochs=100) # step 2\n",
    "    y_predict = model.predict(x_test) # step 3\n",
    "    result = mean_squared_error(y_test, y_predict)\n",
    "    counter+=1\n",
    "    \n",
    "    mean_square_errors_list_C.append(result)"
   ]
  },
  {
   "cell_type": "code",
   "execution_count": 27,
   "metadata": {
    "tags": []
   },
   "outputs": [
    {
     "name": "stdout",
     "output_type": "stream",
     "text": [
      "[33.109485954044885, 28.666005277260332, 33.88185827106448, 26.682851398889238, 28.775213884621838, 32.42843956297586, 30.46999809937654, 28.20155242083698, 37.64231094411361, 29.412062056852385, 34.10362889701391, 30.484426642370238, 28.95918691320871, 31.74905137821478, 28.854611725342593, 30.018019682180945, 32.361728649957904, 34.20020808415337, 34.36260885862252, 32.7121697900393, 31.286627853821734, 36.08706376851315, 28.98172577522322, 36.00968351027731, 29.25166751612193, 32.7362922554758, 34.22611396765334, 34.41757825479354, 31.142087626419258, 27.803770354965962, 26.584435473748922, 27.951496119441277, 26.314238354494215, 28.048994193327072, 30.242413238494066, 33.49462286507309, 29.30926727188363, 29.42468336503832, 27.149557672707054, 30.055292235565133, 31.321709606673224, 29.01588371675725, 23.945172020086996, 32.768186060008304, 26.740556628854186, 25.138476654193862, 28.05366876731488, 28.40191722306485, 31.282441560758812, 29.561791009666372]\n"
     ]
    }
   ],
   "source": [
    "print(mean_square_errors_list_C)"
   ]
  },
  {
   "cell_type": "code",
   "execution_count": 28,
   "metadata": {
    "tags": []
   },
   "outputs": [
    {
     "name": "stdout",
     "output_type": "stream",
     "text": [
      "The mean of the mean squared error is 30.476456668231144 and its standard deviation is 2.994071807363189\n"
     ]
    }
   ],
   "source": [
    "# mean of the mean squared errors\n",
    "mean_sqr_errors_C = statistics.mean(mean_square_errors_list_C)\n",
    "\n",
    "# standard deviation of the mean squared errors\n",
    "std_sqr_errors_C = statistics.stdev(mean_square_errors_list_C)\n",
    "\n",
    "# print answers\n",
    "print(f\"The mean of the mean squared error is {mean_sqr_errors_C} and its standard deviation is {std_sqr_errors_C}\")"
   ]
  },
  {
   "cell_type": "markdown",
   "metadata": {},
   "source": [
    "__Conclusion__:"
   ]
  },
  {
   "cell_type": "code",
   "execution_count": 29,
   "metadata": {
    "tags": []
   },
   "outputs": [
    {
     "data": {
      "text/html": [
       "<div>\n",
       "<style scoped>\n",
       "    .dataframe tbody tr th:only-of-type {\n",
       "        vertical-align: middle;\n",
       "    }\n",
       "\n",
       "    .dataframe tbody tr th {\n",
       "        vertical-align: top;\n",
       "    }\n",
       "\n",
       "    .dataframe thead th {\n",
       "        text-align: right;\n",
       "    }\n",
       "</style>\n",
       "<table border=\"1\" class=\"dataframe\">\n",
       "  <thead>\n",
       "    <tr style=\"text-align: right;\">\n",
       "      <th></th>\n",
       "      <th>Model B</th>\n",
       "      <th>Model C</th>\n",
       "    </tr>\n",
       "    <tr>\n",
       "      <th>Index</th>\n",
       "      <th></th>\n",
       "      <th></th>\n",
       "    </tr>\n",
       "  </thead>\n",
       "  <tbody>\n",
       "    <tr>\n",
       "      <th>Mean sqr errors</th>\n",
       "      <td>41.515492</td>\n",
       "      <td>30.476457</td>\n",
       "    </tr>\n",
       "    <tr>\n",
       "      <th>std deviation</th>\n",
       "      <td>29.550927</td>\n",
       "      <td>2.994072</td>\n",
       "    </tr>\n",
       "  </tbody>\n",
       "</table>\n",
       "</div>"
      ],
      "text/plain": [
       "                   Model B    Model C\n",
       "Index                                \n",
       "Mean sqr errors  41.515492  30.476457\n",
       "std deviation    29.550927   2.994072"
      ]
     },
     "execution_count": 29,
     "metadata": {},
     "output_type": "execute_result"
    }
   ],
   "source": [
    "dict_comparison = {'Index': ['Mean sqr errors', 'std deviation'], 'Model B': [mean_sqr_errors_B, std_sqr_errors_B], 'Model C': [mean_sqr_errors_C, std_sqr_errors_C]}\n",
    "comparison_df = pd.DataFrame(dict_comparison).set_index('Index')\n",
    "comparison_df"
   ]
  },
  {
   "cell_type": "code",
   "execution_count": 30,
   "metadata": {},
   "outputs": [
    {
     "data": {
      "text/plain": [
       "Text(0, 0.5, 'Mean of mean squared errors')"
      ]
     },
     "execution_count": 30,
     "metadata": {},
     "output_type": "execute_result"
    },
    {
     "data": {
      "image/png": "[encoded data removed]",
      "text/plain": [
       "<Figure size 640x480 with 1 Axes>"
      ]
     },
     "metadata": {},
     "output_type": "display_data"
    }
   ],
   "source": [
    "# visualise difference between model B and C\n",
    "sns.boxplot(data=[mean_square_errors_list_B, mean_square_errors_list_C], showfliers=False)\n",
    "plt.title(\"Comparison of mean of mean squared errors between Models B and C\")\n",
    "plt.ylabel(\"Mean of mean squared errors\")"
   ]
  },
  {
   "cell_type": "markdown",
   "metadata": {},
   "source": [
    "__Question__: How does the mean of the mean squared errors compare to that from Step B?\n",
    "\n",
    "From the dataframe and graphs above, we can see that the mean of mean squared errors decreased significantly in Model C, after doubling the number of epochs. "
   ]
  },
  {
   "cell_type": "markdown",
   "metadata": {},
   "source": [
    "## Part D: Increase the number of hidden layers"
   ]
  },
  {
   "cell_type": "markdown",
   "metadata": {},
   "source": [
    "__Instructions__:\n",
    "Repeat part B but use a neural network with the following instead:\n",
    "\n",
    "- Three hidden layers, each of 10 nodes and ReLU activation function.\n",
    "\n",
    "How does the mean of the mean squared errors compare to that from Step B?"
   ]
  },
  {
   "cell_type": "code",
   "execution_count": 31,
   "metadata": {
    "tags": []
   },
   "outputs": [],
   "source": [
    "def regression_model_D():\n",
    "    # This function defines the regression model with one hidden layer only with 10 nodes\n",
    "    model = Sequential()\n",
    "    model.add(Dense(10, activation = 'relu', input_shape=(n_cols,))) #One hidden layer of 10 nodes, and a ReLU activation function\n",
    "    model.add(Dense(10, activation = 'relu')) # second hidden layer\n",
    "    model.add(Dense(10, activation = 'relu')) # third hidden layer\n",
    "    model.add(Dense(1))  # output layer\n",
    "    \n",
    "    # compile the model\n",
    "    model.compile(optimizer='adam', loss='mean_squared_error') #Use the adam optimizer and the mean squared error as the loss function\n",
    "    \n",
    "    return model"
   ]
  },
  {
   "cell_type": "code",
   "execution_count": 32,
   "metadata": {
    "tags": []
   },
   "outputs": [],
   "source": [
    "%%capture [--no-display]\n",
    "\n",
    "# create the model using the function defined before\n",
    "model_D = regression_model_D()\n",
    "\n",
    "# create list that will contain the mean squared errors\n",
    "mean_square_errors_list_D = []\n",
    "\n",
    "# iterate steps 1-3 50 times\n",
    "counter = 0\n",
    "while counter in range(0, 50):\n",
    "    x_train, x_test, y_train, y_test = train_test_split(predictors_norm, target, test_size=0.3) # step 1\n",
    "    model.fit(x_train, y_train, epochs=50) # step 2\n",
    "    y_predict = model.predict(x_test) # step 3\n",
    "    result = mean_squared_error(y_test, y_predict)\n",
    "    counter+=1\n",
    "    \n",
    "    mean_square_errors_list_D.append(result)\n"
   ]
  },
  {
   "cell_type": "code",
   "execution_count": 33,
   "metadata": {
    "tags": []
   },
   "outputs": [
    {
     "name": "stdout",
     "output_type": "stream",
     "text": [
      "[27.640221521395045, 30.923487691460164, 29.188634219026955, 24.32055039838909, 28.252485510874177, 30.002615380921547, 27.84584471168007, 28.091274652366856, 26.780531424465064, 27.09003631386598, 25.658611291615955, 25.46109139787642, 28.31078668805476, 30.423218772633632, 28.91377851280194, 30.631510358199485, 33.313135366776535, 31.597486896810594, 30.422603467264672, 26.960014351393173, 29.15905276142138, 23.433675452259003, 31.910968376825434, 24.65443513908994, 29.267005182757213, 28.552615040798234, 26.86559678581688, 28.33768372018248, 25.9647515372083, 33.573711917151876, 29.320781932650842, 28.460352879541933, 30.43530406690458, 27.693724092185732, 24.54868420503493, 26.918934186262145, 33.43099052603501, 27.347668047057674, 26.72285745268893, 29.25563037710002, 28.161267710172, 29.890314883236623, 28.79026487481906, 29.96613526879335, 28.185605937788093, 27.27830811350017, 24.274709148034702, 26.297065538886734, 27.965108716749732, 25.579734835471626]\n"
     ]
    }
   ],
   "source": [
    "print(mean_square_errors_list_D)"
   ]
  },
  {
   "cell_type": "code",
   "execution_count": 34,
   "metadata": {
    "tags": []
   },
   "outputs": [
    {
     "name": "stdout",
     "output_type": "stream",
     "text": [
      "The mean of the mean squared error is 28.281417152685936 and its standard deviation is 2.3584083238132356\n"
     ]
    }
   ],
   "source": [
    "# mean of the mean squared errors\n",
    "mean_sqr_errors_D = statistics.mean(mean_square_errors_list_D)\n",
    "\n",
    "# standard deviation of the mean squared errors\n",
    "std_sqr_errors_D = statistics.stdev(mean_square_errors_list_D)\n",
    "\n",
    "# print answers\n",
    "print(f\"The mean of the mean squared error is {mean_sqr_errors_D} and its standard deviation is {std_sqr_errors_D}\")"
   ]
  },
  {
   "cell_type": "markdown",
   "metadata": {},
   "source": [
    "__Conclusion__:"
   ]
  },
  {
   "cell_type": "code",
   "execution_count": 35,
   "metadata": {
    "tags": []
   },
   "outputs": [
    {
     "data": {
      "text/html": [
       "<div>\n",
       "<style scoped>\n",
       "    .dataframe tbody tr th:only-of-type {\n",
       "        vertical-align: middle;\n",
       "    }\n",
       "\n",
       "    .dataframe tbody tr th {\n",
       "        vertical-align: top;\n",
       "    }\n",
       "\n",
       "    .dataframe thead th {\n",
       "        text-align: right;\n",
       "    }\n",
       "</style>\n",
       "<table border=\"1\" class=\"dataframe\">\n",
       "  <thead>\n",
       "    <tr style=\"text-align: right;\">\n",
       "      <th></th>\n",
       "      <th>Model B</th>\n",
       "      <th>Model D</th>\n",
       "    </tr>\n",
       "    <tr>\n",
       "      <th>Index</th>\n",
       "      <th></th>\n",
       "      <th></th>\n",
       "    </tr>\n",
       "  </thead>\n",
       "  <tbody>\n",
       "    <tr>\n",
       "      <th>Mean sqr errors</th>\n",
       "      <td>41.515492</td>\n",
       "      <td>28.281417</td>\n",
       "    </tr>\n",
       "    <tr>\n",
       "      <th>std deviation</th>\n",
       "      <td>29.550927</td>\n",
       "      <td>2.358408</td>\n",
       "    </tr>\n",
       "  </tbody>\n",
       "</table>\n",
       "</div>"
      ],
      "text/plain": [
       "                   Model B    Model D\n",
       "Index                                \n",
       "Mean sqr errors  41.515492  28.281417\n",
       "std deviation    29.550927   2.358408"
      ]
     },
     "execution_count": 35,
     "metadata": {},
     "output_type": "execute_result"
    }
   ],
   "source": [
    "dict_comparison = {'Index': ['Mean sqr errors', 'std deviation'], 'Model B': [mean_sqr_errors_B, std_sqr_errors_B], 'Model D': [mean_sqr_errors_D, std_sqr_errors_D]}\n",
    "comparison_df = pd.DataFrame(dict_comparison).set_index('Index')\n",
    "comparison_df"
   ]
  },
  {
   "cell_type": "code",
   "execution_count": 36,
   "metadata": {
    "tags": []
   },
   "outputs": [
    {
     "data": {
      "text/plain": [
       "Text(0, 0.5, 'Mean of mean squared errors')"
      ]
     },
     "execution_count": 36,
     "metadata": {},
     "output_type": "execute_result"
    },
    {
     "data": {
      "image/png": "[encoded data removed]",
      "text/plain": [
       "<Figure size 640x480 with 1 Axes>"
      ]
     },
     "metadata": {},
     "output_type": "display_data"
    }
   ],
   "source": [
    "# visualise difference between models B, and D\n",
    "sns.boxplot(data=[mean_square_errors_list_B, mean_square_errors_list_D], showfliers=False)\n",
    "plt.title(\"Comparison of mean of mean squared errors between Models B, and D\")\n",
    "plt.ylabel(\"Mean of mean squared errors\")\n"
   ]
  },
  {
   "cell_type": "markdown",
   "metadata": {},
   "source": [
    "__Question__: How does the mean of the mean squared errors compare to that from Step B?\n",
    "\n",
    "From the dataframe and graphs above, we can see that the mean of mean squared errors decreased significantly in Model D, after adding hidden layers to the model. "
   ]
  },
  {
   "cell_type": "markdown",
   "metadata": {},
   "source": [
    "## Thank you for reachin the end of this notebook\n",
    "I hoped you enjoyed it as much as I did.\n",
    "\n",
    "This Notebook was created by Bruno Loubiere and submitted on 2023-11-10"
   ]
  },
  {
   "cell_type": "code",
   "execution_count": null,
   "metadata": {},
   "outputs": [],
   "source": []
  }
 ],
 "metadata": {
  "kernelspec": {
   "display_name": "Python",
   "language": "python",
   "name": "conda-env-python-py"
  },
  "language_info": {
   "codemirror_mode": {
    "name": "ipython",
    "version": 3
   },
   "file_extension": ".py",
   "mimetype": "text/x-python",
   "name": "python",
   "nbconvert_exporter": "python",
   "pygments_lexer": "ipython3",
   "version": "3.7.12"
  }
 },
 "nbformat": 4,
 "nbformat_minor": 4
}
